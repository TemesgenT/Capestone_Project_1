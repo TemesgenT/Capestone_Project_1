{
 "cells": [
  {
   "cell_type": "code",
   "execution_count": 256,
   "metadata": {},
   "outputs": [],
   "source": [
    "%matplotlib inline\n",
    "\n",
    "import pandas as pd\n",
    "import numpy as np\n",
    "import matplotlib.pyplot as plt\n",
    "import seaborn as sns\n",
    "import scipy as sp\n",
    "import scipy.stats as stats\n",
    "\n",
    "plt.style.use('ggplot')"
   ]
  },
  {
   "cell_type": "code",
   "execution_count": 232,
   "metadata": {
    "scrolled": true
   },
   "outputs": [
    {
     "data": {
      "text/html": [
       "<div>\n",
       "<style scoped>\n",
       "    .dataframe tbody tr th:only-of-type {\n",
       "        vertical-align: middle;\n",
       "    }\n",
       "\n",
       "    .dataframe tbody tr th {\n",
       "        vertical-align: top;\n",
       "    }\n",
       "\n",
       "    .dataframe thead th {\n",
       "        text-align: right;\n",
       "    }\n",
       "</style>\n",
       "<table border=\"1\" class=\"dataframe\">\n",
       "  <thead>\n",
       "    <tr style=\"text-align: right;\">\n",
       "      <th></th>\n",
       "      <th>ContactDate</th>\n",
       "      <th>Beat</th>\n",
       "      <th>Race</th>\n",
       "      <th>Sex</th>\n",
       "      <th>EncounterType</th>\n",
       "      <th>ReasonForEncounter</th>\n",
       "      <th>Search</th>\n",
       "      <th>TypeOfSearch</th>\n",
       "      <th>ResultOfSearch</th>\n",
       "      <th>ResultOfEncounter</th>\n",
       "      <th>IntelligenceLedFactor</th>\n",
       "    </tr>\n",
       "  </thead>\n",
       "  <tbody>\n",
       "    <tr>\n",
       "      <th>0</th>\n",
       "      <td>1-Jan</td>\n",
       "      <td>27Y</td>\n",
       "      <td>Hispanic</td>\n",
       "      <td>Male</td>\n",
       "      <td>Pedestrian</td>\n",
       "      <td>Reasonable Suspicion</td>\n",
       "      <td>Yes</td>\n",
       "      <td>Cursory</td>\n",
       "      <td>None</td>\n",
       "      <td>No Action</td>\n",
       "      <td>No</td>\n",
       "    </tr>\n",
       "    <tr>\n",
       "      <th>1</th>\n",
       "      <td>1-Jan</td>\n",
       "      <td>27Y</td>\n",
       "      <td>Hispanic</td>\n",
       "      <td>Male</td>\n",
       "      <td>Pedestrian</td>\n",
       "      <td>Reasonable Suspicion</td>\n",
       "      <td>Yes</td>\n",
       "      <td>Cursory</td>\n",
       "      <td>None</td>\n",
       "      <td>No Action</td>\n",
       "      <td>No</td>\n",
       "    </tr>\n",
       "    <tr>\n",
       "      <th>2</th>\n",
       "      <td>1-Jan</td>\n",
       "      <td>27Y</td>\n",
       "      <td>Other</td>\n",
       "      <td>Male</td>\n",
       "      <td>Pedestrian</td>\n",
       "      <td>Reasonable Suspicion</td>\n",
       "      <td>Yes</td>\n",
       "      <td>Cursory</td>\n",
       "      <td>None</td>\n",
       "      <td>No Action</td>\n",
       "      <td>No</td>\n",
       "    </tr>\n",
       "    <tr>\n",
       "      <th>3</th>\n",
       "      <td>1-Jan</td>\n",
       "      <td>04X</td>\n",
       "      <td>White</td>\n",
       "      <td>Male</td>\n",
       "      <td>Pedestrian</td>\n",
       "      <td>Probable Cause</td>\n",
       "      <td>Yes</td>\n",
       "      <td>Incident to Arrest</td>\n",
       "      <td>Yes</td>\n",
       "      <td>Misdemeanor Arrest</td>\n",
       "      <td>No</td>\n",
       "    </tr>\n",
       "    <tr>\n",
       "      <th>4</th>\n",
       "      <td>1-Jan</td>\n",
       "      <td>19X</td>\n",
       "      <td>Afr American</td>\n",
       "      <td>Male</td>\n",
       "      <td>Vehicle</td>\n",
       "      <td>Traffic Violation</td>\n",
       "      <td>Yes</td>\n",
       "      <td>Incident to Arrest</td>\n",
       "      <td>None</td>\n",
       "      <td>Misdemeanor Arrest</td>\n",
       "      <td>No</td>\n",
       "    </tr>\n",
       "  </tbody>\n",
       "</table>\n",
       "</div>"
      ],
      "text/plain": [
       "  ContactDate Beat          Race   Sex EncounterType    ReasonForEncounter  \\\n",
       "0       1-Jan  27Y      Hispanic  Male    Pedestrian  Reasonable Suspicion   \n",
       "1       1-Jan  27Y      Hispanic  Male    Pedestrian  Reasonable Suspicion   \n",
       "2       1-Jan  27Y         Other  Male    Pedestrian  Reasonable Suspicion   \n",
       "3       1-Jan  04X         White  Male    Pedestrian        Probable Cause   \n",
       "4       1-Jan  19X  Afr American  Male       Vehicle     Traffic Violation   \n",
       "\n",
       "  Search        TypeOfSearch ResultOfSearch   ResultOfEncounter  \\\n",
       "0    Yes             Cursory           None           No Action   \n",
       "1    Yes             Cursory           None           No Action   \n",
       "2    Yes             Cursory           None           No Action   \n",
       "3    Yes  Incident to Arrest            Yes  Misdemeanor Arrest   \n",
       "4    Yes  Incident to Arrest           None  Misdemeanor Arrest   \n",
       "\n",
       "  IntelligenceLedFactor  \n",
       "0                    No  \n",
       "1                    No  \n",
       "2                    No  \n",
       "3                    No  \n",
       "4                    No  "
      ]
     },
     "execution_count": 232,
     "metadata": {},
     "output_type": "execute_result"
    }
   ],
   "source": [
    "df = pd.read_csv(\"accident_report.csv\")\n",
    "df.head()\n"
   ]
  },
  {
   "cell_type": "code",
   "execution_count": null,
   "metadata": {},
   "outputs": [],
   "source": [
    "#df.info"
   ]
  },
  {
   "cell_type": "code",
   "execution_count": null,
   "metadata": {},
   "outputs": [],
   "source": [
    "#df.isnull().count()\n",
    "df.ResultOfEncounter.count()"
   ]
  },
  {
   "cell_type": "code",
   "execution_count": null,
   "metadata": {},
   "outputs": [],
   "source": [
    "df.Sex.count()\n"
   ]
  },
  {
   "cell_type": "code",
   "execution_count": null,
   "metadata": {},
   "outputs": [],
   "source": [
    "df.shape"
   ]
  },
  {
   "cell_type": "code",
   "execution_count": 217,
   "metadata": {},
   "outputs": [
    {
     "data": {
      "text/plain": [
       "Index(['ContactDate', 'Beat', 'Race', 'Sex', 'EncounterType',\n",
       "       'ReasonForEncounter', 'Search', 'TypeOfSearch', 'ResultOfSearch',\n",
       "       'ResultOfEncounter', 'IntelligenceLedFactor'],\n",
       "      dtype='object')"
      ]
     },
     "execution_count": 217,
     "metadata": {},
     "output_type": "execute_result"
    }
   ],
   "source": [
    "df.columns"
   ]
  },
  {
   "cell_type": "code",
   "execution_count": null,
   "metadata": {},
   "outputs": [],
   "source": [
    "df.EncounterType.count()"
   ]
  },
  {
   "cell_type": "code",
   "execution_count": 236,
   "metadata": {
    "scrolled": true
   },
   "outputs": [
    {
     "name": "stdout",
     "output_type": "stream",
     "text": [
      "Hispanic = 699\n",
      "Other = 100\n",
      "White = 198\n",
      "AfrAmerican = 1747\n",
      "Total = 2744\n",
      "(699, 100, 198, 1747)\n"
     ]
    }
   ],
   "source": [
    "#The Function return the numbers by Race from categorical oridnal variable\n",
    "def Count_by_race(Hispanic,Other,White,AfrAmerican):\n",
    "    Count_Hispa,Count_Other,Count_White,Count_Afr = 0,0,0,0   \n",
    "    for idx, key in enumerate(df.Race):\n",
    "        if key == 'Hispanic':\n",
    "            Count_Hispa += 1\n",
    "        if key == \"Other\":\n",
    "               Count_Other += 1\n",
    "        if key == \"White\":\n",
    "            Count_White += 1\n",
    "        if key == \"Afr American\":\n",
    "            Count_Afr += 1\n",
    "            \n",
    "    Total = Count_Hispa + Count_Other + Count_White + Count_Afr\n",
    "    print(f\"Hispanic = {Count_Hispa}\")\n",
    "    print(f\"Other = {Count_Other}\")\n",
    "    print(f\"White = {Count_White}\")\n",
    "    print(f\"AfrAmerican = {Count_Afr}\")\n",
    "    print(f\"Total = {Total}\")\n",
    "       \n",
    "    return  Count_Hispa, Count_Other, Count_White, Count_Afr\n",
    "Hispanic,Other,White,AfrAmerican = 0,0,0,0 \n",
    "print(Count_by_race(Hispanic, Other, White, AfrAmerican))\n"
   ]
  },
  {
   "cell_type": "code",
   "execution_count": 257,
   "metadata": {
    "scrolled": true
   },
   "outputs": [
    {
     "data": {
      "text/html": [
       "<div>\n",
       "<style scoped>\n",
       "    .dataframe tbody tr th:only-of-type {\n",
       "        vertical-align: middle;\n",
       "    }\n",
       "\n",
       "    .dataframe tbody tr th {\n",
       "        vertical-align: top;\n",
       "    }\n",
       "\n",
       "    .dataframe thead th {\n",
       "        text-align: right;\n",
       "    }\n",
       "</style>\n",
       "<table border=\"1\" class=\"dataframe\">\n",
       "  <thead>\n",
       "    <tr style=\"text-align: right;\">\n",
       "      <th></th>\n",
       "      <th>Race</th>\n",
       "      <th>Sex</th>\n",
       "      <th>EncounterType</th>\n",
       "      <th>ReasonForEncounter</th>\n",
       "      <th>ResultOfEncounter</th>\n",
       "    </tr>\n",
       "  </thead>\n",
       "  <tbody>\n",
       "    <tr>\n",
       "      <th>0</th>\n",
       "      <td>Hispanic</td>\n",
       "      <td>Male</td>\n",
       "      <td>Pedestrian</td>\n",
       "      <td>Reasonable Suspicion</td>\n",
       "      <td>No Action</td>\n",
       "    </tr>\n",
       "    <tr>\n",
       "      <th>1</th>\n",
       "      <td>Hispanic</td>\n",
       "      <td>Male</td>\n",
       "      <td>Pedestrian</td>\n",
       "      <td>Reasonable Suspicion</td>\n",
       "      <td>No Action</td>\n",
       "    </tr>\n",
       "    <tr>\n",
       "      <th>2</th>\n",
       "      <td>Other</td>\n",
       "      <td>Male</td>\n",
       "      <td>Pedestrian</td>\n",
       "      <td>Reasonable Suspicion</td>\n",
       "      <td>No Action</td>\n",
       "    </tr>\n",
       "    <tr>\n",
       "      <th>3</th>\n",
       "      <td>White</td>\n",
       "      <td>Male</td>\n",
       "      <td>Pedestrian</td>\n",
       "      <td>Probable Cause</td>\n",
       "      <td>Misdemeanor Arrest</td>\n",
       "    </tr>\n",
       "    <tr>\n",
       "      <th>4</th>\n",
       "      <td>Afr American</td>\n",
       "      <td>Male</td>\n",
       "      <td>Vehicle</td>\n",
       "      <td>Traffic Violation</td>\n",
       "      <td>Misdemeanor Arrest</td>\n",
       "    </tr>\n",
       "  </tbody>\n",
       "</table>\n",
       "</div>"
      ],
      "text/plain": [
       "           Race   Sex EncounterType    ReasonForEncounter   ResultOfEncounter\n",
       "0      Hispanic  Male    Pedestrian  Reasonable Suspicion           No Action\n",
       "1      Hispanic  Male    Pedestrian  Reasonable Suspicion           No Action\n",
       "2         Other  Male    Pedestrian  Reasonable Suspicion           No Action\n",
       "3         White  Male    Pedestrian        Probable Cause  Misdemeanor Arrest\n",
       "4  Afr American  Male       Vehicle     Traffic Violation  Misdemeanor Arrest"
      ]
     },
     "execution_count": 257,
     "metadata": {},
     "output_type": "execute_result"
    }
   ],
   "source": [
    "#Data Filtering\n",
    "df.loc[0:,['Race','Sex','EncounterType','ReasonForEncounter','ResultOfEncounter']].head(5)\n"
   ]
  },
  {
   "cell_type": "code",
   "execution_count": null,
   "metadata": {},
   "outputs": [],
   "source": [
    "#Function return total population in Oakland versus by Race\n",
    "def total_pop_oakland_in_2017(population):\n",
    "    total_population = 425204\n",
    "    White_pop = Total_population * 0.29\n",
    "    Hispanic_pop = Total_population * 0.26\n",
    "    AfrAmeri_pop = Total_population * 0.227\n",
    "    Other_pop = Total_population - (White_pop + Hispanic_pop + AfrAmeri_pop)\n",
    "    return Hispanic_pop, White_pop, AfrAmeri_pop, Other_pop\n"
   ]
  },
  {
   "cell_type": "code",
   "execution_count": 228,
   "metadata": {
    "scrolled": false
   },
   "outputs": [
    {
     "data": {
      "text/plain": [
       "Text(0.5, 1.0, 'Totol Population of Oakland in 2017 ')"
      ]
     },
     "execution_count": 228,
     "metadata": {},
     "output_type": "execute_result"
    },
    {
     "data": {
      "image/png": "[encoded data removed]",
      "text/plain": [
       "<Figure size 432x288 with 1 Axes>"
      ]
     },
     "metadata": {},
     "output_type": "display_data"
    }
   ],
   "source": [
    "pop_count = pd.DataFrame(\n",
    "    {'Population': list(total_pop_oakland_in_2017(425204)), \n",
    "     'Race': ['Hispanic', 'White', 'Other', 'AfrAmerican']}\n",
    ")\n",
    "x = np.arange(len(pop_count['Race']))\n",
    "\n",
    "fig, ax = plt.subplots()\n",
    "\n",
    "bars = ax.bar(x, pop_count['Population'], )\n",
    "ax.set_xticks(x)\n",
    "ax.set_xticklabels(pop_count['Race'])\n",
    "ax.set_title(\"Totol Population of Oakland in 2017 \", color = 'blue', fontsize = 20)"
   ]
  },
  {
   "cell_type": "code",
   "execution_count": null,
   "metadata": {
    "scrolled": false
   },
   "outputs": [],
   "source": [
    "\n"
   ]
  },
  {
   "cell_type": "code",
   "execution_count": 238,
   "metadata": {
    "scrolled": true
   },
   "outputs": [
    {
     "name": "stdout",
     "output_type": "stream",
     "text": [
      "\t# Data break down by Sex and Race\n",
      "Hispanic Male = 578,\tand Female = 121\n",
      "Other Male = 77,\tand Female = 23\n",
      "White Male = 115,\tand Female = 83\n",
      "AfriAmeri Male= 1307, and Female = 440\n",
      "(2154, 690)\n"
     ]
    }
   ],
   "source": [
    "#Function Count the number of Male and Female from Race\n",
    "\n",
    "\n",
    "def Count_Sex_by_race(Male, Female):\n",
    "    Count_Hispa_male,Count_Hispa_female= 0,0 \n",
    "    Count_Other_male, Count_Other_female = 0,0\n",
    "    Count_White_male,Count_White_female = 0,0\n",
    "    Count_AfrAmeri_male, Count_AfrAmeri_female =  0,0\n",
    "    \n",
    "    for idx, key in enumerate(df.Race):\n",
    "        if key == 'Hispanic':\n",
    "            if df.Sex[idx] == \"Male\":\n",
    "                Count_Hispa_male += 1\n",
    "            else: \n",
    "                \n",
    "                Count_Hispa_female +=1\n",
    "        if key == 'Other':\n",
    "            if df.Sex[idx] == \"Male\":\n",
    "                Count_Other_male += 1\n",
    "            else: \n",
    "                Count_Other_female +=1\n",
    "                \n",
    "        if key == 'White':\n",
    "            if df.Sex[idx] == \"Male\":\n",
    "                Count_White_male += 1\n",
    "            else: \n",
    "                Count_White_female +=1\n",
    "                \n",
    "        if key == 'Afr American':\n",
    "            if df.Sex[idx] == \"Male\":\n",
    "                Count_AfrAmeri_male += 1\n",
    "            else: \n",
    "                Count_AfrAmeri_female +=1\n",
    "                \n",
    "    print(\"\\t# Data break down by Sex and Race\")           \n",
    "    print(f\"Hispanic Male = {Count_Hispa_male},\\tand Female = {Count_Hispa_female}\")\n",
    "    print(f\"Other Male = {Count_Other_male},\\tand Female = {Count_Other_female}\")\n",
    "    print(f\"White Male = {Count_White_male},\\tand Female = {Count_White_female}\")\n",
    "    print(f\"AfriAmeri Male= {Count_AfrAmeri_male}, and Female = {Count_AfrAmeri_female}\")\n",
    "    Male = Count_Hispa_male + Count_Other_male + Count_Other_male + Count_White_male + Count_AfrAmeri_male\n",
    "    Female = Count_Hispa_female + Count_Other_female + Count_Other_female + Count_White_female + Count_AfrAmeri_female\n",
    "    \n",
    "    return Male, Female\n",
    "\n",
    "Male, Female = 0, 0\n",
    "print(Count_Sex_by_race(Male, Female))"
   ]
  },
  {
   "cell_type": "code",
   "execution_count": null,
   "metadata": {},
   "outputs": [],
   "source": [
    "#"
   ]
  },
  {
   "cell_type": "code",
   "execution_count": 259,
   "metadata": {
    "scrolled": false
   },
   "outputs": [
    {
     "name": "stdout",
     "output_type": "stream",
     "text": [
      "Hispanic = 699\n",
      "Other = 100\n",
      "White = 198\n",
      "AfrAmerican = 1747\n",
      "Total = 2744\n"
     ]
    }
   ],
   "source": [
    "count_each_male = pd.DataFrame(\n",
    "    {'Male_count_per_race': list(Count_by_race(Hispanic,Other,White,AfrAmerican)),\n",
    "     'Race': ['Hispanic ', 'Other', 'White ', 'AfrAmerican']})"
   ]
  },
  {
   "cell_type": "code",
   "execution_count": 263,
   "metadata": {
    "scrolled": false
   },
   "outputs": [
    {
     "data": {
      "text/plain": [
       "Text(0.5, 1.0, 'Traffic Violation by Sex and Race ')"
      ]
     },
     "execution_count": 263,
     "metadata": {},
     "output_type": "execute_result"
    },
    {
     "data": {
      "image/png": "[encoded data removed]",
      "text/plain": [
       "<Figure size 432x288 with 1 Axes>"
      ]
     },
     "metadata": {},
     "output_type": "display_data"
    }
   ],
   "source": [
    "\n",
    "x = np.arange(len(count_each_male['Race']))\n",
    "\n",
    "fig, ax = plt.subplots()\n",
    "\n",
    "bars = ax.bar(x, count_each_male['Male_count_per_race'])\n",
    "ax.set_xticks(x)\n",
    "ax.set_xticklabels(count_each_male['Race'])\n",
    "ax.set_title(\"Traffic Violation by Sex and Race \",color = 'blue', fontsize = 18)\n",
    "\n"
   ]
  },
  {
   "cell_type": "code",
   "execution_count": null,
   "metadata": {
    "scrolled": true
   },
   "outputs": [],
   "source": []
  },
  {
   "cell_type": "code",
   "execution_count": 262,
   "metadata": {
    "scrolled": true
   },
   "outputs": [
    {
     "data": {
      "text/plain": [
       "Text(0.5, 1.0, 'Traffic Violation by Gender and Race ')"
      ]
     },
     "execution_count": 262,
     "metadata": {},
     "output_type": "execute_result"
    },
    {
     "data": {
      "image/png": "[encoded data removed]",
      "text/plain": [
       "<Figure size 432x288 with 1 Axes>"
      ]
     },
     "metadata": {},
     "output_type": "display_data"
    }
   ],
   "source": [
    "Male = [578 , 77, 155, 1307]\n",
    "Female = [121, 23, 83, 440]\n",
    "index = ['Hispanic', 'Other', 'White','AfrAmerican']\n",
    "df = pd.DataFrame({'Male': Male,\n",
    "                    'Female': Female}, index=index)\n",
    "ax = df.plot.bar()\n",
    "ax.set_title(\"Traffic Violation by Gender and Race \",color = 'blue', fontsize = 18)\n",
    "\n"
   ]
  },
  {
   "cell_type": "code",
   "execution_count": null,
   "metadata": {
    "scrolled": false
   },
   "outputs": [],
   "source": [
    "\n"
   ]
  },
  {
   "cell_type": "markdown",
   "metadata": {},
   "source": [
    "\n",
    "#THE HYPOTHESES:"
   ]
  },
  {
   "cell_type": "code",
   "execution_count": 300,
   "metadata": {
    "scrolled": false
   },
   "outputs": [
    {
     "name": "stdout",
     "output_type": "stream",
     "text": [
      "proportion_sample_one = 0.637\n",
      "proportion_sample_two = 0.255\n"
     ]
    }
   ],
   "source": [
    "#Description, The sameple is taken from the street camera record over the period 2016 and 2017.\n",
    "# The Hypthesis is Two Samples of Oakland Residents based on Race, and One Categorical Variable:\n",
    "\n",
    "#Variable = Traffic_violation\n",
    "sample_one = AfrAmerican = 1747\n",
    "sample_two = Hispanic = 699\n",
    "sample_three = White = 198\n",
    "sample_four = Other = 100\n",
    "\n",
    "Total_sample_size =  Hispanic + AfrAmerican + White + Other\n",
    "proportions_sample_one = AfrAmerican / Total_sample_size\n",
    "proportions_sample_two = Hispanic /Total_sample_size\n",
    "print(\"proportion_sample_one = {:2.3f}\".format(proportions_sample_one))\n",
    "print(\"proportion_sample_two = {:2.3f}\".format(proportions_sample_two))\n"
   ]
  },
  {
   "cell_type": "code",
   "execution_count": null,
   "metadata": {},
   "outputs": [],
   "source": [
    "#The Hypotheses\n",
    "'Ho = Null Hypotheses there is no difference is traffic violation' \n",
    "'Ha = alternate Hypotheses AfrAmerican traffic violatin is greater than Hispanic'\n",
    "#Description P_value | Null Hypotheses < 0.05 reject Null Hypotheses \n",
    "p_value = 0.05\n"
   ]
  },
  {
   "cell_type": "code",
   "execution_count": 306,
   "metadata": {
    "scrolled": false
   },
   "outputs": [
    {
     "name": "stdout",
     "output_type": "stream",
     "text": [
      "shared_sample_freq :  0.891399416909621\n",
      "shared_sample_variance : 0.08629325448218297\n"
     ]
    }
   ],
   "source": [
    "shared_sample_freq = (sample_one + sample_two) / Total_sample_size\n",
    "print(\"shared_sample_freq : \", shared_sample_freq)\n",
    "\n",
    "shared_sample_variance =  ( sample_one + sample_two)\\\n",
    "* shared_sample_freq * (1 - shared_sample_freq)/(Total_sample_size)\n",
    "\n",
    "print(\"shared_sample_variance :\", shared_sample_variance)\n",
    "\n",
    "difference_in_proportions = stats.norm(0, np.sqrt(shared_sample_variance))\n"
   ]
  },
  {
   "cell_type": "code",
   "execution_count": 307,
   "metadata": {
    "scrolled": false
   },
   "outputs": [
    {
     "data": {
      "text/plain": [
       "Text(0.5, 1.0, 'Distribution of Difference in Sample Frequencies Assuming $H_0$')"
      ]
     },
     "execution_count": 307,
     "metadata": {},
     "output_type": "execute_result"
    },
    {
     "data": {
      "image/png": "[encoded data removed]",
      "text/plain": [
       "<Figure size 1152x216 with 1 Axes>"
      ]
     },
     "metadata": {},
     "output_type": "display_data"
    }
   ],
   "source": [
    "\n",
    "fig, ax = plt.subplots(1, figsize=(16, 3))\n",
    "\n",
    "x = np.linspace(-1, 1, num=250)\n",
    "ax.plot(x, difference_in_proportions.pdf(x), linewidth=3)\n",
    "ax.set_xlim(-1, 1)\n",
    "ax.set_title(\"Distribution of Difference in Sample Frequencies Assuming $H_0$\")"
   ]
  },
  {
   "cell_type": "code",
   "execution_count": null,
   "metadata": {
    "scrolled": false
   },
   "outputs": [],
   "source": []
  },
  {
   "cell_type": "code",
   "execution_count": 308,
   "metadata": {},
   "outputs": [
    {
     "name": "stdout",
     "output_type": "stream",
     "text": [
      "Difference in sample proportions: 0.38\n"
     ]
    }
   ],
   "source": [
    "sample_one_freq = sample_one/Total_sample_size\n",
    "sample_two_freq = sample_two /Total_sample_size\n",
    "difference_in_sample_proportions = sample_one_freq - sample_two_freq\n",
    "print(\"Difference in sample proportions: {:2.2f}\".format(difference_in_sample_proportions))"
   ]
  },
  {
   "cell_type": "code",
   "execution_count": 311,
   "metadata": {},
   "outputs": [
    {
     "name": "stdout",
     "output_type": "stream",
     "text": [
      "p-value for traffic violation frequency comparison: 0.10\n"
     ]
    }
   ],
   "source": [
    "\n",
    "p_value = 1 - difference_in_proportions.cdf(difference_in_sample_proportions)\n",
    "print(\"p-value for traffic violation frequency comparison: {:2.2f}\".format(p_value))"
   ]
  },
  {
   "cell_type": "code",
   "execution_count": 313,
   "metadata": {
    "scrolled": false
   },
   "outputs": [
    {
     "data": {
      "text/plain": [
       "Text(0.5, 1.0, 'p-value Region')"
      ]
     },
     "execution_count": 313,
     "metadata": {},
     "output_type": "execute_result"
    },
    {
     "data": {
      "image/png": "[encoded data removed]",
      "text/plain": [
       "<Figure size 1152x216 with 1 Axes>"
      ]
     },
     "metadata": {},
     "output_type": "display_data"
    }
   ],
   "source": [
    "fig, ax = plt.subplots(1, figsize=(16, 3))\n",
    "\n",
    "x = np.linspace(-1, 1, num=250)\n",
    "ax.plot(x, difference_in_proportions.pdf(x), linewidth=3)\n",
    "ax.fill_between(x, difference_in_proportions.pdf(x), where=(x >= difference_in_sample_proportions),\n",
    "                color=\"red\", alpha=0.5)\n",
    "ax.set_xlim(-1, 1)\n",
    "ax.set_title(\"p-value Region\")"
   ]
  },
  {
   "cell_type": "code",
   "execution_count": null,
   "metadata": {},
   "outputs": [],
   "source": [
    "#Conclusion \n",
    "\"The p_value is 0.1 which is twice greater than the critical value 0.05. Thus There is no\\\n",
    "evidence suggest that the Null Hypotheses is Fasle.\""
   ]
  },
  {
   "cell_type": "code",
   "execution_count": null,
   "metadata": {
    "scrolled": false
   },
   "outputs": [],
   "source": []
  },
  {
   "cell_type": "code",
   "execution_count": null,
   "metadata": {},
   "outputs": [],
   "source": []
  },
  {
   "cell_type": "code",
   "execution_count": null,
   "metadata": {},
   "outputs": [],
   "source": []
  },
  {
   "cell_type": "code",
   "execution_count": null,
   "metadata": {},
   "outputs": [],
   "source": [
    "\n"
   ]
  },
  {
   "cell_type": "code",
   "execution_count": null,
   "metadata": {},
   "outputs": [],
   "source": [
    "\n"
   ]
  },
  {
   "cell_type": "code",
   "execution_count": null,
   "metadata": {},
   "outputs": [],
   "source": []
  },
  {
   "cell_type": "code",
   "execution_count": null,
   "metadata": {},
   "outputs": [],
   "source": []
  }
 ],
 "metadata": {
  "kernelspec": {
   "display_name": "Python 3",
   "language": "python",
   "name": "python3"
  },
  "language_info": {
   "codemirror_mode": {
    "name": "ipython",
    "version": 3
   },
   "file_extension": ".py",
   "mimetype": "text/x-python",
   "name": "python",
   "nbconvert_exporter": "python",
   "pygments_lexer": "ipython3",
   "version": "3.7.6"
  }
 },
 "nbformat": 4,
 "nbformat_minor": 2
}
