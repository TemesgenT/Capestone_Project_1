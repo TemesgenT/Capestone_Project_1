{
 "cells": [
  {
   "cell_type": "code",
   "execution_count": 203,
   "metadata": {},
   "outputs": [],
   "source": [
    "%matplotlib inline\n",
    "\n",
    "import pandas as pd\n",
    "import numpy as np\n",
    "import matplotlib.pyplot as plt"
   ]
  },
  {
   "cell_type": "code",
   "execution_count": 204,
   "metadata": {},
   "outputs": [
    {
     "data": {
      "text/html": [
       "<div>\n",
       "<style scoped>\n",
       "    .dataframe tbody tr th:only-of-type {\n",
       "        vertical-align: middle;\n",
       "    }\n",
       "\n",
       "    .dataframe tbody tr th {\n",
       "        vertical-align: top;\n",
       "    }\n",
       "\n",
       "    .dataframe thead th {\n",
       "        text-align: right;\n",
       "    }\n",
       "</style>\n",
       "<table border=\"1\" class=\"dataframe\">\n",
       "  <thead>\n",
       "    <tr style=\"text-align: right;\">\n",
       "      <th></th>\n",
       "      <th>ContactDate</th>\n",
       "      <th>Beat</th>\n",
       "      <th>Race</th>\n",
       "      <th>Sex</th>\n",
       "      <th>EncounterType</th>\n",
       "      <th>ReasonForEncounter</th>\n",
       "      <th>Search</th>\n",
       "      <th>TypeOfSearch</th>\n",
       "      <th>ResultOfSearch</th>\n",
       "      <th>ResultOfEncounter</th>\n",
       "      <th>IntelligenceLedFactor</th>\n",
       "    </tr>\n",
       "  </thead>\n",
       "  <tbody>\n",
       "    <tr>\n",
       "      <th>0</th>\n",
       "      <td>1-Jan</td>\n",
       "      <td>27Y</td>\n",
       "      <td>Hispanic</td>\n",
       "      <td>Male</td>\n",
       "      <td>Pedestrian</td>\n",
       "      <td>Reasonable Suspicion</td>\n",
       "      <td>Yes</td>\n",
       "      <td>Cursory</td>\n",
       "      <td>None</td>\n",
       "      <td>No Action</td>\n",
       "      <td>No</td>\n",
       "    </tr>\n",
       "    <tr>\n",
       "      <th>1</th>\n",
       "      <td>1-Jan</td>\n",
       "      <td>27Y</td>\n",
       "      <td>Hispanic</td>\n",
       "      <td>Male</td>\n",
       "      <td>Pedestrian</td>\n",
       "      <td>Reasonable Suspicion</td>\n",
       "      <td>Yes</td>\n",
       "      <td>Cursory</td>\n",
       "      <td>None</td>\n",
       "      <td>No Action</td>\n",
       "      <td>No</td>\n",
       "    </tr>\n",
       "    <tr>\n",
       "      <th>2</th>\n",
       "      <td>1-Jan</td>\n",
       "      <td>27Y</td>\n",
       "      <td>Other</td>\n",
       "      <td>Male</td>\n",
       "      <td>Pedestrian</td>\n",
       "      <td>Reasonable Suspicion</td>\n",
       "      <td>Yes</td>\n",
       "      <td>Cursory</td>\n",
       "      <td>None</td>\n",
       "      <td>No Action</td>\n",
       "      <td>No</td>\n",
       "    </tr>\n",
       "    <tr>\n",
       "      <th>3</th>\n",
       "      <td>1-Jan</td>\n",
       "      <td>04X</td>\n",
       "      <td>White</td>\n",
       "      <td>Male</td>\n",
       "      <td>Pedestrian</td>\n",
       "      <td>Probable Cause</td>\n",
       "      <td>Yes</td>\n",
       "      <td>Incident to Arrest</td>\n",
       "      <td>Yes</td>\n",
       "      <td>Misdemeanor Arrest</td>\n",
       "      <td>No</td>\n",
       "    </tr>\n",
       "    <tr>\n",
       "      <th>4</th>\n",
       "      <td>1-Jan</td>\n",
       "      <td>19X</td>\n",
       "      <td>Afr American</td>\n",
       "      <td>Male</td>\n",
       "      <td>Vehicle</td>\n",
       "      <td>Traffic Violation</td>\n",
       "      <td>Yes</td>\n",
       "      <td>Incident to Arrest</td>\n",
       "      <td>None</td>\n",
       "      <td>Misdemeanor Arrest</td>\n",
       "      <td>No</td>\n",
       "    </tr>\n",
       "  </tbody>\n",
       "</table>\n",
       "</div>"
      ],
      "text/plain": [
       "  ContactDate Beat          Race   Sex EncounterType    ReasonForEncounter  \\\n",
       "0       1-Jan  27Y      Hispanic  Male    Pedestrian  Reasonable Suspicion   \n",
       "1       1-Jan  27Y      Hispanic  Male    Pedestrian  Reasonable Suspicion   \n",
       "2       1-Jan  27Y         Other  Male    Pedestrian  Reasonable Suspicion   \n",
       "3       1-Jan  04X         White  Male    Pedestrian        Probable Cause   \n",
       "4       1-Jan  19X  Afr American  Male       Vehicle     Traffic Violation   \n",
       "\n",
       "  Search        TypeOfSearch ResultOfSearch   ResultOfEncounter  \\\n",
       "0    Yes             Cursory           None           No Action   \n",
       "1    Yes             Cursory           None           No Action   \n",
       "2    Yes             Cursory           None           No Action   \n",
       "3    Yes  Incident to Arrest            Yes  Misdemeanor Arrest   \n",
       "4    Yes  Incident to Arrest           None  Misdemeanor Arrest   \n",
       "\n",
       "  IntelligenceLedFactor  \n",
       "0                    No  \n",
       "1                    No  \n",
       "2                    No  \n",
       "3                    No  \n",
       "4                    No  "
      ]
     },
     "execution_count": 204,
     "metadata": {},
     "output_type": "execute_result"
    }
   ],
   "source": [
    "df = pd.read_csv(\"accident_report.csv\")\n",
    "\n",
    "df.head()"
   ]
  },
  {
   "cell_type": "code",
   "execution_count": null,
   "metadata": {},
   "outputs": [],
   "source": [
    "#df.info"
   ]
  },
  {
   "cell_type": "code",
   "execution_count": 123,
   "metadata": {},
   "outputs": [],
   "source": [
    "#df.isnull().count()"
   ]
  },
  {
   "cell_type": "code",
   "execution_count": null,
   "metadata": {},
   "outputs": [],
   "source": []
  },
  {
   "cell_type": "code",
   "execution_count": 53,
   "metadata": {},
   "outputs": [
    {
     "data": {
      "text/plain": [
       "(2849, 11)"
      ]
     },
     "execution_count": 53,
     "metadata": {},
     "output_type": "execute_result"
    }
   ],
   "source": [
    "df.shape"
   ]
  },
  {
   "cell_type": "code",
   "execution_count": 54,
   "metadata": {},
   "outputs": [
    {
     "data": {
      "text/plain": [
       "Index(['ContactDate', 'Beat', 'Race', 'Sex', 'EncounterType',\n",
       "       'ReasonForEncounter', 'Search', 'TypeOfSearch', 'ResultOfSearch',\n",
       "       'ResultOfEncounter', 'IntelligenceLedFactor'],\n",
       "      dtype='object')"
      ]
     },
     "execution_count": 54,
     "metadata": {},
     "output_type": "execute_result"
    }
   ],
   "source": [
    "df.columns"
   ]
  },
  {
   "cell_type": "code",
   "execution_count": 153,
   "metadata": {},
   "outputs": [
    {
     "data": {
      "text/plain": [
       "Male       2155\n",
       "Female      691\n",
       "Unknown       3\n",
       "Name: Sex, dtype: int64"
      ]
     },
     "execution_count": 153,
     "metadata": {},
     "output_type": "execute_result"
    }
   ],
   "source": [
    "df['Sex'].value_counts()"
   ]
  },
  {
   "cell_type": "code",
   "execution_count": 155,
   "metadata": {},
   "outputs": [
    {
     "data": {
      "text/plain": [
       "0    Pedestrian\n",
       "1    Pedestrian\n",
       "2    Pedestrian\n",
       "3    Pedestrian\n",
       "4       Vehicle\n",
       "Name: EncounterType, dtype: object"
      ]
     },
     "execution_count": 155,
     "metadata": {},
     "output_type": "execute_result"
    }
   ],
   "source": [
    "df.loc[0:,['Race','Sex','EncounterType','ReasonForEncounter','ResultOfEncounter']].head(10)\n",
    "df.EncounterType.head()"
   ]
  },
  {
   "cell_type": "code",
   "execution_count": 34,
   "metadata": {},
   "outputs": [
    {
     "name": "stdout",
     "output_type": "stream",
     "text": [
      "(2155, 691)\n"
     ]
    }
   ],
   "source": [
    "def count_each_sex(Male, Fema):\n",
    "    df.Sex.count()\n",
    "    Count_male = 0\n",
    "    Count_female = 0\n",
    "    \n",
    "    for idx, let in enumerate(df.Sex):\n",
    "        if let == 'Male':\n",
    "            Count_male += 1\n",
    "    for idx, i in enumerate(df.Sex):\n",
    "        if i ==\"Female\":\n",
    "            Count_female += 1\n",
    "    return Count_male, Count_female\n",
    "Male = 0\n",
    "Female = 0\n",
    "print(count_Each_Sex(Male,Female))\n"
   ]
  },
  {
   "cell_type": "code",
   "execution_count": 103,
   "metadata": {},
   "outputs": [
    {
     "name": "stdout",
     "output_type": "stream",
     "text": [
      "Hispanic =699\n",
      "Other = 100\n",
      "White = 198\n",
      "AfrAmerican = 1747\n",
      "(699, 100, 198, 1747)\n"
     ]
    }
   ],
   "source": [
    "def Count_male_by_race(Hispanic,Other,White,AfrAmerican):\n",
    "    Count_Hispa_male,Count_Other,Count_White,Count_Afr = 0,0,0,0   \n",
    "    for idx, key in enumerate(df.Race):\n",
    "        if key == 'Hispanic':\n",
    "            Count_Hispa_male += 1\n",
    "        if key == \"Other\":\n",
    "               Count_Other += 1\n",
    "        if key == \"White\":\n",
    "            Count_White += 1\n",
    "        if key == \"Afr American\":\n",
    "            Count_Afr += 1\n",
    "            \n",
    "    print(f\"Hispanic ={Count_Hispa_male}\")\n",
    "    print(f\"Other = {Count_Other}\")\n",
    "    print(f\"White = {Count_White}\")\n",
    "    print(f\"AfrAmerican = {Count_Afr}\")\n",
    "       \n",
    "    return  Count_Hispa_male, Count_Other, Count_White, Count_Afr\n",
    "print(Count_male_by_race(Hispanic, Other, White, AfrAmerican))\n",
    "    "
   ]
  },
  {
   "cell_type": "code",
   "execution_count": 146,
   "metadata": {},
   "outputs": [
    {
     "name": "stdout",
     "output_type": "stream",
     "text": [
      "     The Data break down by Sex and Race\n",
      "Hispanic Male = 578,\tand Female = 121\n",
      "Other Male = 77,\tand Female = 23\n",
      "White Male = 115,\tand Female = 83\n",
      "AfriAmeri Male= 1307, and Female = 440\n",
      "(2154, 690)\n"
     ]
    }
   ],
   "source": [
    "def Count_female_by_race(Male, Female):\n",
    "    Count_Hispa_male,Count_Hispa_female= 0,0 \n",
    "    Count_Other_male, Count_Other_female = 0,0\n",
    "    Count_White_male,Count_White_female = 0,0\n",
    "    Count_AfrAmeri_male, Count_AfrAmeri_female =  0,0\n",
    "    \n",
    "    for idx, key in enumerate(df.Race):\n",
    "        if key == 'Hispanic':\n",
    "            if df.Sex[idx] == \"Male\":\n",
    "                Count_Hispa_male += 1\n",
    "            else: \n",
    "                Count_Hispa_female +=1\n",
    "        if key == 'Other':\n",
    "            if df.Sex[idx] == \"Male\":\n",
    "                Count_Other_male += 1\n",
    "            else: \n",
    "                Count_Other_female +=1\n",
    "        if key == 'White':\n",
    "            if df.Sex[idx] == \"Male\":\n",
    "                Count_White_male += 1\n",
    "            else: \n",
    "                Count_White_female +=1\n",
    "        if key == 'Afr American':\n",
    "            if df.Sex[idx] == \"Male\":\n",
    "                Count_AfrAmeri_male += 1\n",
    "            else: \n",
    "                Count_AfrAmeri_female +=1\n",
    "                \n",
    "    print(\"     Data break down by Sex and Race\")           \n",
    "    print(f\"Hispanic Male = {Count_Hispa_male},\\tand Female = {Count_Hispa_female}\")\n",
    "    print(f\"Other Male = {Count_Other_male},\\tand Female = {Count_Other_female}\")\n",
    "    print(f\"White Male = {Count_White_male},\\tand Female = {Count_White_female}\")\n",
    "    print(f\"AfriAmeri Male= {Count_AfrAmeri_male}, and Female = {Count_AfrAmeri_female}\")\n",
    "    Male = Count_Hispa_male + Count_Other_male + Count_Other_male + Count_White_male + Count_AfrAmeri_male\n",
    "    Female = Count_Hispa_female + Count_Other_female + Count_Other_female + Count_White_female + Count_AfrAmeri_female\n",
    "    return Male, Female \n",
    "Male, Female = 0, 0\n",
    "print(Count_female_by_race(Male, Female))"
   ]
  },
  {
   "cell_type": "code",
   "execution_count": 206,
   "metadata": {},
   "outputs": [
    {
     "ename": "KeyError",
     "evalue": "False",
     "output_type": "error",
     "traceback": [
      "\u001b[1;31m---------------------------------------------------------------------------\u001b[0m",
      "\u001b[1;31mKeyError\u001b[0m                                  Traceback (most recent call last)",
      "\u001b[1;32m~\\Anaconda31\\lib\\site-packages\\pandas\\core\\indexes\\base.py\u001b[0m in \u001b[0;36mget_loc\u001b[1;34m(self, key, method, tolerance)\u001b[0m\n\u001b[0;32m   3062\u001b[0m             \u001b[1;32mtry\u001b[0m\u001b[1;33m:\u001b[0m\u001b[1;33m\u001b[0m\u001b[0m\n\u001b[1;32m-> 3063\u001b[1;33m                 \u001b[1;32mreturn\u001b[0m \u001b[0mself\u001b[0m\u001b[1;33m.\u001b[0m\u001b[0m_engine\u001b[0m\u001b[1;33m.\u001b[0m\u001b[0mget_loc\u001b[0m\u001b[1;33m(\u001b[0m\u001b[0mkey\u001b[0m\u001b[1;33m)\u001b[0m\u001b[1;33m\u001b[0m\u001b[0m\n\u001b[0m\u001b[0;32m   3064\u001b[0m             \u001b[1;32mexcept\u001b[0m \u001b[0mKeyError\u001b[0m\u001b[1;33m:\u001b[0m\u001b[1;33m\u001b[0m\u001b[0m\n",
      "\u001b[1;32mpandas\\_libs\\index.pyx\u001b[0m in \u001b[0;36mpandas._libs.index.IndexEngine.get_loc\u001b[1;34m()\u001b[0m\n",
      "\u001b[1;32mpandas\\_libs\\index.pyx\u001b[0m in \u001b[0;36mpandas._libs.index.IndexEngine.get_loc\u001b[1;34m()\u001b[0m\n",
      "\u001b[1;32mpandas\\_libs\\index_class_helper.pxi\u001b[0m in \u001b[0;36mpandas._libs.index.Int64Engine._check_type\u001b[1;34m()\u001b[0m\n",
      "\u001b[1;31mKeyError\u001b[0m: False",
      "\nDuring handling of the above exception, another exception occurred:\n",
      "\u001b[1;31mKeyError\u001b[0m                                  Traceback (most recent call last)",
      "\u001b[1;32m<ipython-input-206-33256afee8b4>\u001b[0m in \u001b[0;36m<module>\u001b[1;34m()\u001b[0m\n\u001b[0;32m      9\u001b[0m     \u001b[1;32mreturn\u001b[0m \u001b[0mped\u001b[0m\u001b[1;33m,\u001b[0m \u001b[0mveh\u001b[0m\u001b[1;33m\u001b[0m\u001b[0m\n\u001b[0;32m     10\u001b[0m \u001b[0mPedestrian\u001b[0m\u001b[1;33m,\u001b[0m \u001b[0mVehicle\u001b[0m \u001b[1;33m=\u001b[0m \u001b[1;36m0\u001b[0m\u001b[1;33m,\u001b[0m \u001b[1;36m0\u001b[0m\u001b[1;33m\u001b[0m\u001b[0m\n\u001b[1;32m---> 11\u001b[1;33m \u001b[0mprint\u001b[0m\u001b[1;33m(\u001b[0m\u001b[0mget_EncouterType\u001b[0m\u001b[1;33m(\u001b[0m\u001b[0mPedestrian\u001b[0m\u001b[1;33m,\u001b[0m \u001b[0mVehicle\u001b[0m\u001b[1;33m)\u001b[0m\u001b[1;33m)\u001b[0m\u001b[1;33m\u001b[0m\u001b[0m\n\u001b[0m",
      "\u001b[1;32m<ipython-input-206-33256afee8b4>\u001b[0m in \u001b[0;36mget_EncouterType\u001b[1;34m(Pedestrian, Vehicle)\u001b[0m\n\u001b[0;32m      3\u001b[0m     \u001b[1;32mfor\u001b[0m \u001b[0midx\u001b[0m\u001b[1;33m,\u001b[0m \u001b[0mkey\u001b[0m \u001b[1;32min\u001b[0m \u001b[0menumerate\u001b[0m\u001b[1;33m(\u001b[0m\u001b[0mdf\u001b[0m\u001b[1;33m.\u001b[0m\u001b[0mEncounterType\u001b[0m\u001b[1;33m)\u001b[0m\u001b[1;33m:\u001b[0m\u001b[1;33m\u001b[0m\u001b[0m\n\u001b[0;32m      4\u001b[0m \u001b[1;33m\u001b[0m\u001b[0m\n\u001b[1;32m----> 5\u001b[1;33m             \u001b[1;32mif\u001b[0m \u001b[0mdf\u001b[0m\u001b[1;33m.\u001b[0m\u001b[0mloc\u001b[0m\u001b[1;33m[\u001b[0m\u001b[1;33m[\u001b[0m\u001b[1;34m'EncounterType'\u001b[0m\u001b[1;33m]\u001b[0m \u001b[1;33m==\u001b[0m \u001b[0mVehicle\u001b[0m\u001b[1;33m]\u001b[0m\u001b[1;33m:\u001b[0m\u001b[1;33m\u001b[0m\u001b[0m\n\u001b[0m\u001b[0;32m      6\u001b[0m                 \u001b[0mveh\u001b[0m \u001b[1;33m+=\u001b[0m \u001b[1;36m1\u001b[0m\u001b[1;33m\u001b[0m\u001b[0m\n\u001b[0;32m      7\u001b[0m     \u001b[1;32melse\u001b[0m\u001b[1;33m:\u001b[0m\u001b[1;33m\u001b[0m\u001b[0m\n",
      "\u001b[1;32m~\\Anaconda31\\lib\\site-packages\\pandas\\core\\indexing.py\u001b[0m in \u001b[0;36m__getitem__\u001b[1;34m(self, key)\u001b[0m\n\u001b[0;32m   1476\u001b[0m \u001b[1;33m\u001b[0m\u001b[0m\n\u001b[0;32m   1477\u001b[0m             \u001b[0mmaybe_callable\u001b[0m \u001b[1;33m=\u001b[0m \u001b[0mcom\u001b[0m\u001b[1;33m.\u001b[0m\u001b[0m_apply_if_callable\u001b[0m\u001b[1;33m(\u001b[0m\u001b[0mkey\u001b[0m\u001b[1;33m,\u001b[0m \u001b[0mself\u001b[0m\u001b[1;33m.\u001b[0m\u001b[0mobj\u001b[0m\u001b[1;33m)\u001b[0m\u001b[1;33m\u001b[0m\u001b[0m\n\u001b[1;32m-> 1478\u001b[1;33m             \u001b[1;32mreturn\u001b[0m \u001b[0mself\u001b[0m\u001b[1;33m.\u001b[0m\u001b[0m_getitem_axis\u001b[0m\u001b[1;33m(\u001b[0m\u001b[0mmaybe_callable\u001b[0m\u001b[1;33m,\u001b[0m \u001b[0maxis\u001b[0m\u001b[1;33m=\u001b[0m\u001b[0maxis\u001b[0m\u001b[1;33m)\u001b[0m\u001b[1;33m\u001b[0m\u001b[0m\n\u001b[0m\u001b[0;32m   1479\u001b[0m \u001b[1;33m\u001b[0m\u001b[0m\n\u001b[0;32m   1480\u001b[0m     \u001b[1;32mdef\u001b[0m \u001b[0m_is_scalar_access\u001b[0m\u001b[1;33m(\u001b[0m\u001b[0mself\u001b[0m\u001b[1;33m,\u001b[0m \u001b[0mkey\u001b[0m\u001b[1;33m)\u001b[0m\u001b[1;33m:\u001b[0m\u001b[1;33m\u001b[0m\u001b[0m\n",
      "\u001b[1;32m~\\Anaconda31\\lib\\site-packages\\pandas\\core\\indexing.py\u001b[0m in \u001b[0;36m_getitem_axis\u001b[1;34m(self, key, axis)\u001b[0m\n\u001b[0;32m   1910\u001b[0m         \u001b[1;31m# fall thru to straight lookup\u001b[0m\u001b[1;33m\u001b[0m\u001b[1;33m\u001b[0m\u001b[0m\n\u001b[0;32m   1911\u001b[0m         \u001b[0mself\u001b[0m\u001b[1;33m.\u001b[0m\u001b[0m_validate_key\u001b[0m\u001b[1;33m(\u001b[0m\u001b[0mkey\u001b[0m\u001b[1;33m,\u001b[0m \u001b[0maxis\u001b[0m\u001b[1;33m)\u001b[0m\u001b[1;33m\u001b[0m\u001b[0m\n\u001b[1;32m-> 1912\u001b[1;33m         \u001b[1;32mreturn\u001b[0m \u001b[0mself\u001b[0m\u001b[1;33m.\u001b[0m\u001b[0m_get_label\u001b[0m\u001b[1;33m(\u001b[0m\u001b[0mkey\u001b[0m\u001b[1;33m,\u001b[0m \u001b[0maxis\u001b[0m\u001b[1;33m=\u001b[0m\u001b[0maxis\u001b[0m\u001b[1;33m)\u001b[0m\u001b[1;33m\u001b[0m\u001b[0m\n\u001b[0m\u001b[0;32m   1913\u001b[0m \u001b[1;33m\u001b[0m\u001b[0m\n\u001b[0;32m   1914\u001b[0m \u001b[1;33m\u001b[0m\u001b[0m\n",
      "\u001b[1;32m~\\Anaconda31\\lib\\site-packages\\pandas\\core\\indexing.py\u001b[0m in \u001b[0;36m_get_label\u001b[1;34m(self, label, axis)\u001b[0m\n\u001b[0;32m    138\u001b[0m             \u001b[1;32mraise\u001b[0m \u001b[0mIndexingError\u001b[0m\u001b[1;33m(\u001b[0m\u001b[1;34m'no slices here, handle elsewhere'\u001b[0m\u001b[1;33m)\u001b[0m\u001b[1;33m\u001b[0m\u001b[0m\n\u001b[0;32m    139\u001b[0m \u001b[1;33m\u001b[0m\u001b[0m\n\u001b[1;32m--> 140\u001b[1;33m         \u001b[1;32mreturn\u001b[0m \u001b[0mself\u001b[0m\u001b[1;33m.\u001b[0m\u001b[0mobj\u001b[0m\u001b[1;33m.\u001b[0m\u001b[0m_xs\u001b[0m\u001b[1;33m(\u001b[0m\u001b[0mlabel\u001b[0m\u001b[1;33m,\u001b[0m \u001b[0maxis\u001b[0m\u001b[1;33m=\u001b[0m\u001b[0maxis\u001b[0m\u001b[1;33m)\u001b[0m\u001b[1;33m\u001b[0m\u001b[0m\n\u001b[0m\u001b[0;32m    141\u001b[0m \u001b[1;33m\u001b[0m\u001b[0m\n\u001b[0;32m    142\u001b[0m     \u001b[1;32mdef\u001b[0m \u001b[0m_get_loc\u001b[0m\u001b[1;33m(\u001b[0m\u001b[0mself\u001b[0m\u001b[1;33m,\u001b[0m \u001b[0mkey\u001b[0m\u001b[1;33m,\u001b[0m \u001b[0maxis\u001b[0m\u001b[1;33m=\u001b[0m\u001b[1;32mNone\u001b[0m\u001b[1;33m)\u001b[0m\u001b[1;33m:\u001b[0m\u001b[1;33m\u001b[0m\u001b[0m\n",
      "\u001b[1;32m~\\Anaconda31\\lib\\site-packages\\pandas\\core\\generic.py\u001b[0m in \u001b[0;36mxs\u001b[1;34m(self, key, axis, level, drop_level)\u001b[0m\n\u001b[0;32m   2982\u001b[0m                                                       drop_level=drop_level)\n\u001b[0;32m   2983\u001b[0m         \u001b[1;32melse\u001b[0m\u001b[1;33m:\u001b[0m\u001b[1;33m\u001b[0m\u001b[0m\n\u001b[1;32m-> 2984\u001b[1;33m             \u001b[0mloc\u001b[0m \u001b[1;33m=\u001b[0m \u001b[0mself\u001b[0m\u001b[1;33m.\u001b[0m\u001b[0mindex\u001b[0m\u001b[1;33m.\u001b[0m\u001b[0mget_loc\u001b[0m\u001b[1;33m(\u001b[0m\u001b[0mkey\u001b[0m\u001b[1;33m)\u001b[0m\u001b[1;33m\u001b[0m\u001b[0m\n\u001b[0m\u001b[0;32m   2985\u001b[0m \u001b[1;33m\u001b[0m\u001b[0m\n\u001b[0;32m   2986\u001b[0m             \u001b[1;32mif\u001b[0m \u001b[0misinstance\u001b[0m\u001b[1;33m(\u001b[0m\u001b[0mloc\u001b[0m\u001b[1;33m,\u001b[0m \u001b[0mnp\u001b[0m\u001b[1;33m.\u001b[0m\u001b[0mndarray\u001b[0m\u001b[1;33m)\u001b[0m\u001b[1;33m:\u001b[0m\u001b[1;33m\u001b[0m\u001b[0m\n",
      "\u001b[1;32m~\\Anaconda31\\lib\\site-packages\\pandas\\core\\indexes\\base.py\u001b[0m in \u001b[0;36mget_loc\u001b[1;34m(self, key, method, tolerance)\u001b[0m\n\u001b[0;32m   3063\u001b[0m                 \u001b[1;32mreturn\u001b[0m \u001b[0mself\u001b[0m\u001b[1;33m.\u001b[0m\u001b[0m_engine\u001b[0m\u001b[1;33m.\u001b[0m\u001b[0mget_loc\u001b[0m\u001b[1;33m(\u001b[0m\u001b[0mkey\u001b[0m\u001b[1;33m)\u001b[0m\u001b[1;33m\u001b[0m\u001b[0m\n\u001b[0;32m   3064\u001b[0m             \u001b[1;32mexcept\u001b[0m \u001b[0mKeyError\u001b[0m\u001b[1;33m:\u001b[0m\u001b[1;33m\u001b[0m\u001b[0m\n\u001b[1;32m-> 3065\u001b[1;33m                 \u001b[1;32mreturn\u001b[0m \u001b[0mself\u001b[0m\u001b[1;33m.\u001b[0m\u001b[0m_engine\u001b[0m\u001b[1;33m.\u001b[0m\u001b[0mget_loc\u001b[0m\u001b[1;33m(\u001b[0m\u001b[0mself\u001b[0m\u001b[1;33m.\u001b[0m\u001b[0m_maybe_cast_indexer\u001b[0m\u001b[1;33m(\u001b[0m\u001b[0mkey\u001b[0m\u001b[1;33m)\u001b[0m\u001b[1;33m)\u001b[0m\u001b[1;33m\u001b[0m\u001b[0m\n\u001b[0m\u001b[0;32m   3066\u001b[0m \u001b[1;33m\u001b[0m\u001b[0m\n\u001b[0;32m   3067\u001b[0m         \u001b[0mindexer\u001b[0m \u001b[1;33m=\u001b[0m \u001b[0mself\u001b[0m\u001b[1;33m.\u001b[0m\u001b[0mget_indexer\u001b[0m\u001b[1;33m(\u001b[0m\u001b[1;33m[\u001b[0m\u001b[0mkey\u001b[0m\u001b[1;33m]\u001b[0m\u001b[1;33m,\u001b[0m \u001b[0mmethod\u001b[0m\u001b[1;33m=\u001b[0m\u001b[0mmethod\u001b[0m\u001b[1;33m,\u001b[0m \u001b[0mtolerance\u001b[0m\u001b[1;33m=\u001b[0m\u001b[0mtolerance\u001b[0m\u001b[1;33m)\u001b[0m\u001b[1;33m\u001b[0m\u001b[0m\n",
      "\u001b[1;32mpandas\\_libs\\index.pyx\u001b[0m in \u001b[0;36mpandas._libs.index.IndexEngine.get_loc\u001b[1;34m()\u001b[0m\n",
      "\u001b[1;32mpandas\\_libs\\index.pyx\u001b[0m in \u001b[0;36mpandas._libs.index.IndexEngine.get_loc\u001b[1;34m()\u001b[0m\n",
      "\u001b[1;32mpandas\\_libs\\index_class_helper.pxi\u001b[0m in \u001b[0;36mpandas._libs.index.Int64Engine._check_type\u001b[1;34m()\u001b[0m\n",
      "\u001b[1;31mKeyError\u001b[0m: False"
     ]
    }
   ],
   "source": [
    "def get_EncouterType(Pedestrian, Vehicle):\n",
    "    ped, veh  = 0, 0\n",
    "    for idx, key in enumerate(df.EncounterType):\n",
    "        \n",
    "            if df.loc[['EncounterType[key]'] == Vehicle]:\n",
    "                     veh += 1\n",
    "            else:\n",
    "                     ped+=1\n",
    "    return ped, veh\n",
    "Pedestrian, Vehicle = 0, 0\n",
    "print(get_EncouterType(Pedestrian, Vehicle))         \n"
   ]
  },
  {
   "cell_type": "code",
   "execution_count": null,
   "metadata": {},
   "outputs": [],
   "source": []
  },
  {
   "cell_type": "code",
   "execution_count": null,
   "metadata": {},
   "outputs": [],
   "source": []
  }
 ],
 "metadata": {
  "kernelspec": {
   "display_name": "Python 3",
   "language": "python",
   "name": "python3"
  },
  "language_info": {
   "codemirror_mode": {
    "name": "ipython",
    "version": 3
   },
   "file_extension": ".py",
   "mimetype": "text/x-python",
   "name": "python",
   "nbconvert_exporter": "python",
   "pygments_lexer": "ipython3",
   "version": "3.6.5"
  }
 },
 "nbformat": 4,
 "nbformat_minor": 2
}
