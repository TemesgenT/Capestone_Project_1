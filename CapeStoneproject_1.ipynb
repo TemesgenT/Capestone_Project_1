{
 "cells": [
  {
   "cell_type": "code",
   "execution_count": 207,
   "metadata": {},
   "outputs": [],
   "source": [
    "%matplotlib inline\n",
    "\n",
    "import pandas as pd\n",
    "import numpy as np\n",
    "import matplotlib.pyplot as plt\n",
    "import seaborn as sns\n",
    "\n",
    "plt.style.use('ggplot')"
   ]
  },
  {
   "cell_type": "code",
   "execution_count": 208,
   "metadata": {
    "scrolled": false
   },
   "outputs": [
    {
     "data": {
      "text/html": [
       "<div>\n",
       "<style scoped>\n",
       "    .dataframe tbody tr th:only-of-type {\n",
       "        vertical-align: middle;\n",
       "    }\n",
       "\n",
       "    .dataframe tbody tr th {\n",
       "        vertical-align: top;\n",
       "    }\n",
       "\n",
       "    .dataframe thead th {\n",
       "        text-align: right;\n",
       "    }\n",
       "</style>\n",
       "<table border=\"1\" class=\"dataframe\">\n",
       "  <thead>\n",
       "    <tr style=\"text-align: right;\">\n",
       "      <th></th>\n",
       "      <th>ContactDate</th>\n",
       "      <th>Beat</th>\n",
       "      <th>Race</th>\n",
       "      <th>Sex</th>\n",
       "      <th>EncounterType</th>\n",
       "      <th>ReasonForEncounter</th>\n",
       "      <th>Search</th>\n",
       "      <th>TypeOfSearch</th>\n",
       "      <th>ResultOfSearch</th>\n",
       "      <th>ResultOfEncounter</th>\n",
       "      <th>IntelligenceLedFactor</th>\n",
       "    </tr>\n",
       "  </thead>\n",
       "  <tbody>\n",
       "    <tr>\n",
       "      <th>0</th>\n",
       "      <td>1-Jan</td>\n",
       "      <td>27Y</td>\n",
       "      <td>Hispanic</td>\n",
       "      <td>Male</td>\n",
       "      <td>Pedestrian</td>\n",
       "      <td>Reasonable Suspicion</td>\n",
       "      <td>Yes</td>\n",
       "      <td>Cursory</td>\n",
       "      <td>None</td>\n",
       "      <td>No Action</td>\n",
       "      <td>No</td>\n",
       "    </tr>\n",
       "    <tr>\n",
       "      <th>1</th>\n",
       "      <td>1-Jan</td>\n",
       "      <td>27Y</td>\n",
       "      <td>Hispanic</td>\n",
       "      <td>Male</td>\n",
       "      <td>Pedestrian</td>\n",
       "      <td>Reasonable Suspicion</td>\n",
       "      <td>Yes</td>\n",
       "      <td>Cursory</td>\n",
       "      <td>None</td>\n",
       "      <td>No Action</td>\n",
       "      <td>No</td>\n",
       "    </tr>\n",
       "    <tr>\n",
       "      <th>2</th>\n",
       "      <td>1-Jan</td>\n",
       "      <td>27Y</td>\n",
       "      <td>Other</td>\n",
       "      <td>Male</td>\n",
       "      <td>Pedestrian</td>\n",
       "      <td>Reasonable Suspicion</td>\n",
       "      <td>Yes</td>\n",
       "      <td>Cursory</td>\n",
       "      <td>None</td>\n",
       "      <td>No Action</td>\n",
       "      <td>No</td>\n",
       "    </tr>\n",
       "    <tr>\n",
       "      <th>3</th>\n",
       "      <td>1-Jan</td>\n",
       "      <td>04X</td>\n",
       "      <td>White</td>\n",
       "      <td>Male</td>\n",
       "      <td>Pedestrian</td>\n",
       "      <td>Probable Cause</td>\n",
       "      <td>Yes</td>\n",
       "      <td>Incident to Arrest</td>\n",
       "      <td>Yes</td>\n",
       "      <td>Misdemeanor Arrest</td>\n",
       "      <td>No</td>\n",
       "    </tr>\n",
       "    <tr>\n",
       "      <th>4</th>\n",
       "      <td>1-Jan</td>\n",
       "      <td>19X</td>\n",
       "      <td>Afr American</td>\n",
       "      <td>Male</td>\n",
       "      <td>Vehicle</td>\n",
       "      <td>Traffic Violation</td>\n",
       "      <td>Yes</td>\n",
       "      <td>Incident to Arrest</td>\n",
       "      <td>None</td>\n",
       "      <td>Misdemeanor Arrest</td>\n",
       "      <td>No</td>\n",
       "    </tr>\n",
       "  </tbody>\n",
       "</table>\n",
       "</div>"
      ],
      "text/plain": [
       "  ContactDate Beat          Race   Sex EncounterType    ReasonForEncounter  \\\n",
       "0       1-Jan  27Y      Hispanic  Male    Pedestrian  Reasonable Suspicion   \n",
       "1       1-Jan  27Y      Hispanic  Male    Pedestrian  Reasonable Suspicion   \n",
       "2       1-Jan  27Y         Other  Male    Pedestrian  Reasonable Suspicion   \n",
       "3       1-Jan  04X         White  Male    Pedestrian        Probable Cause   \n",
       "4       1-Jan  19X  Afr American  Male       Vehicle     Traffic Violation   \n",
       "\n",
       "  Search        TypeOfSearch ResultOfSearch   ResultOfEncounter  \\\n",
       "0    Yes             Cursory           None           No Action   \n",
       "1    Yes             Cursory           None           No Action   \n",
       "2    Yes             Cursory           None           No Action   \n",
       "3    Yes  Incident to Arrest            Yes  Misdemeanor Arrest   \n",
       "4    Yes  Incident to Arrest           None  Misdemeanor Arrest   \n",
       "\n",
       "  IntelligenceLedFactor  \n",
       "0                    No  \n",
       "1                    No  \n",
       "2                    No  \n",
       "3                    No  \n",
       "4                    No  "
      ]
     },
     "execution_count": 208,
     "metadata": {},
     "output_type": "execute_result"
    }
   ],
   "source": [
    "df = pd.read_csv(\"accident_report.csv\")\n",
    "\n",
    "df.head()"
   ]
  },
  {
   "cell_type": "code",
   "execution_count": null,
   "metadata": {},
   "outputs": [],
   "source": [
    "#df.info"
   ]
  },
  {
   "cell_type": "code",
   "execution_count": 209,
   "metadata": {},
   "outputs": [
    {
     "data": {
      "text/plain": [
       "2849"
      ]
     },
     "execution_count": 209,
     "metadata": {},
     "output_type": "execute_result"
    }
   ],
   "source": [
    "#df.isnull().count()\n",
    "df.ResultOfEncounter.count()"
   ]
  },
  {
   "cell_type": "code",
   "execution_count": 130,
   "metadata": {},
   "outputs": [
    {
     "data": {
      "text/plain": [
       "2849"
      ]
     },
     "execution_count": 130,
     "metadata": {},
     "output_type": "execute_result"
    }
   ],
   "source": [
    "df.Sex.count()\n"
   ]
  },
  {
   "cell_type": "code",
   "execution_count": 65,
   "metadata": {},
   "outputs": [
    {
     "data": {
      "text/plain": [
       "(2849, 11)"
      ]
     },
     "execution_count": 65,
     "metadata": {},
     "output_type": "execute_result"
    }
   ],
   "source": [
    "df.shape"
   ]
  },
  {
   "cell_type": "code",
   "execution_count": 148,
   "metadata": {},
   "outputs": [
    {
     "data": {
      "text/plain": [
       "Index(['ContactDate', 'Beat', 'Race', 'Sex', 'EncounterType',\n",
       "       'ReasonForEncounter', 'Search', 'TypeOfSearch', 'ResultOfSearch',\n",
       "       'ResultOfEncounter', 'IntelligenceLedFactor'],\n",
       "      dtype='object')"
      ]
     },
     "execution_count": 148,
     "metadata": {},
     "output_type": "execute_result"
    }
   ],
   "source": [
    "df.columns"
   ]
  },
  {
   "cell_type": "code",
   "execution_count": 193,
   "metadata": {},
   "outputs": [
    {
     "data": {
      "text/plain": [
       "2849"
      ]
     },
     "execution_count": 193,
     "metadata": {},
     "output_type": "execute_result"
    }
   ],
   "source": [
    "df.EncounterType.count()"
   ]
  },
  {
   "cell_type": "code",
   "execution_count": 201,
   "metadata": {},
   "outputs": [
    {
     "name": "stdout",
     "output_type": "stream",
     "text": [
      "Hispanic =699\n",
      "Other = 100\n",
      "White = 198\n",
      "AfrAmerican = 1747\n",
      "(699, 100, 198, 1747)\n"
     ]
    }
   ],
   "source": [
    "#get the number of male from categorical oridnal variable\n",
    "def Count_by_race(Hispanic,Other,White,AfrAmerican):\n",
    "    Count_Hispa,Count_Other,Count_White,Count_Afr = 0,0,0,0   \n",
    "    for idx, key in enumerate(df.Race):\n",
    "        if key == 'Hispanic':\n",
    "            Count_Hispa += 1\n",
    "        if key == \"Other\":\n",
    "               Count_Other += 1\n",
    "        if key == \"White\":\n",
    "            Count_White += 1\n",
    "        if key == \"Afr American\":\n",
    "            Count_Afr += 1\n",
    "            \n",
    "    print(f\"Hispanic ={Count_Hispa}\")\n",
    "    print(f\"Other = {Count_Other}\")\n",
    "    print(f\"White = {Count_White}\")\n",
    "    print(f\"AfrAmerican = {Count_Afr}\")\n",
    "       \n",
    "    return  Count_Hispa, Count_Other, Count_White, Count_Afr\n",
    "Hispanic,Other,White,AfrAmerican = 0,0,0,0 \n",
    "print(Count_by_race(Hispanic, Other, White, AfrAmerican))\n"
   ]
  },
  {
   "cell_type": "code",
   "execution_count": 150,
   "metadata": {},
   "outputs": [
    {
     "data": {
      "text/html": [
       "<div>\n",
       "<style scoped>\n",
       "    .dataframe tbody tr th:only-of-type {\n",
       "        vertical-align: middle;\n",
       "    }\n",
       "\n",
       "    .dataframe tbody tr th {\n",
       "        vertical-align: top;\n",
       "    }\n",
       "\n",
       "    .dataframe thead th {\n",
       "        text-align: right;\n",
       "    }\n",
       "</style>\n",
       "<table border=\"1\" class=\"dataframe\">\n",
       "  <thead>\n",
       "    <tr style=\"text-align: right;\">\n",
       "      <th></th>\n",
       "      <th>Race</th>\n",
       "      <th>Sex</th>\n",
       "      <th>EncounterType</th>\n",
       "      <th>ReasonForEncounter</th>\n",
       "      <th>ResultOfEncounter</th>\n",
       "    </tr>\n",
       "  </thead>\n",
       "  <tbody>\n",
       "    <tr>\n",
       "      <th>0</th>\n",
       "      <td>Hispanic</td>\n",
       "      <td>Male</td>\n",
       "      <td>Pedestrian</td>\n",
       "      <td>Reasonable Suspicion</td>\n",
       "      <td>No Action</td>\n",
       "    </tr>\n",
       "    <tr>\n",
       "      <th>1</th>\n",
       "      <td>Hispanic</td>\n",
       "      <td>Male</td>\n",
       "      <td>Pedestrian</td>\n",
       "      <td>Reasonable Suspicion</td>\n",
       "      <td>No Action</td>\n",
       "    </tr>\n",
       "    <tr>\n",
       "      <th>2</th>\n",
       "      <td>Other</td>\n",
       "      <td>Male</td>\n",
       "      <td>Pedestrian</td>\n",
       "      <td>Reasonable Suspicion</td>\n",
       "      <td>No Action</td>\n",
       "    </tr>\n",
       "    <tr>\n",
       "      <th>3</th>\n",
       "      <td>White</td>\n",
       "      <td>Male</td>\n",
       "      <td>Pedestrian</td>\n",
       "      <td>Probable Cause</td>\n",
       "      <td>Misdemeanor Arrest</td>\n",
       "    </tr>\n",
       "    <tr>\n",
       "      <th>4</th>\n",
       "      <td>Afr American</td>\n",
       "      <td>Male</td>\n",
       "      <td>Vehicle</td>\n",
       "      <td>Traffic Violation</td>\n",
       "      <td>Misdemeanor Arrest</td>\n",
       "    </tr>\n",
       "  </tbody>\n",
       "</table>\n",
       "</div>"
      ],
      "text/plain": [
       "           Race   Sex EncounterType    ReasonForEncounter   ResultOfEncounter\n",
       "0      Hispanic  Male    Pedestrian  Reasonable Suspicion           No Action\n",
       "1      Hispanic  Male    Pedestrian  Reasonable Suspicion           No Action\n",
       "2         Other  Male    Pedestrian  Reasonable Suspicion           No Action\n",
       "3         White  Male    Pedestrian        Probable Cause  Misdemeanor Arrest\n",
       "4  Afr American  Male       Vehicle     Traffic Violation  Misdemeanor Arrest"
      ]
     },
     "execution_count": 150,
     "metadata": {},
     "output_type": "execute_result"
    }
   ],
   "source": [
    "#Data Filtering\n",
    "df.loc[0:,['Race','Sex','EncounterType','ReasonForEncounter','ResultOfEncounter']].head(5)\n"
   ]
  },
  {
   "cell_type": "code",
   "execution_count": 90,
   "metadata": {},
   "outputs": [],
   "source": [
    "#Function return total population in Oakland versus by Race\n",
    "def total_pop_oakland_in_2017(population):\n",
    "    total_population = 425204\n",
    "    White_pop = Total_population * 0.29\n",
    "    Hispanic_pop = Total_population * 0.26\n",
    "    AfrAmeri_pop = Total_population * 0.227\n",
    "    Other_pop = Total_population - (White_pop + Hispanic_pop + AfrAmeri_pop)\n",
    "    return Hispanic_pop, White_pop, AfrAmeri_pop, Other_pop\n"
   ]
  },
  {
   "cell_type": "code",
   "execution_count": 194,
   "metadata": {
    "scrolled": true
   },
   "outputs": [
    {
     "data": {
      "text/plain": [
       "Text(0.5, 1.0, 'Totol Population of Oakland in 2017 ')"
      ]
     },
     "execution_count": 194,
     "metadata": {},
     "output_type": "execute_result"
    },
    {
     "data": {
      "image/png": "[encoded data removed]",
      "text/plain": [
       "<Figure size 432x288 with 1 Axes>"
      ]
     },
     "metadata": {},
     "output_type": "display_data"
    }
   ],
   "source": [
    "pop_count = pd.DataFrame(\n",
    "    {'Population': list(total_pop_oakland_in_2017(425204)), \n",
    "     'Race': ['Hispanic', 'White', 'Other', 'AfrAmerican']}\n",
    ")\n",
    "x = np.arange(len(pop_count['Race']))\n",
    "\n",
    "fig, ax = plt.subplots()\n",
    "\n",
    "bars = ax.bar(x, pop_count['Population'], )\n",
    "ax.set_xticks(x)\n",
    "ax.set_xticklabels(pop_count['Race'])\n",
    "ax.set_title(\"Totol Population of Oakland in 2017 \", color = 'blue', fontsize = 20)"
   ]
  },
  {
   "cell_type": "code",
   "execution_count": null,
   "metadata": {
    "scrolled": false
   },
   "outputs": [],
   "source": [
    "\n",
    "#\n",
    "lst = total_pop_oakland_in_2017(425500)"
   ]
  },
  {
   "cell_type": "code",
   "execution_count": 186,
   "metadata": {},
   "outputs": [
    {
     "name": "stdout",
     "output_type": "stream",
     "text": [
      "\tData break down by Sex and Race\n",
      "Hispanic Male = 578,\tand Female = 121\n",
      "Other Male = 77,\tand Female = 23\n",
      "White Male = 115,\tand Female = 83\n",
      "AfriAmeri Male= 1307, and Female = 440\n",
      "(2154, 690)\n"
     ]
    }
   ],
   "source": [
    "def Count_Sex_by_race(Male, Female):\n",
    "    Count_Hispa_male,Count_Hispa_female= 0,0 \n",
    "    Count_Other_male, Count_Other_female = 0,0\n",
    "    Count_White_male,Count_White_female = 0,0\n",
    "    Count_AfrAmeri_male, Count_AfrAmeri_female =  0,0\n",
    "    \n",
    "    for idx, key in enumerate(df.Race):\n",
    "        if key == 'Hispanic':\n",
    "            if df.Sex[idx] == \"Male\":\n",
    "                Count_Hispa_male += 1\n",
    "            else: \n",
    "                \n",
    "                Count_Hispa_female +=1\n",
    "        if key == 'Other':\n",
    "            if df.Sex[idx] == \"Male\":\n",
    "                Count_Other_male += 1\n",
    "            else: \n",
    "                Count_Other_female +=1\n",
    "        if key == 'White':\n",
    "            if df.Sex[idx] == \"Male\":\n",
    "                Count_White_male += 1\n",
    "            else: \n",
    "                Count_White_female +=1\n",
    "        if key == 'Afr American':\n",
    "            if df.Sex[idx] == \"Male\":\n",
    "                Count_AfrAmeri_male += 1\n",
    "            else: \n",
    "                Count_AfrAmeri_female +=1\n",
    "                \n",
    "    print(\"\\tData break down by Sex and Race\")           \n",
    "    print(f\"Hispanic Male = {Count_Hispa_male},\\tand Female = {Count_Hispa_female}\")\n",
    "    print(f\"Other Male = {Count_Other_male},\\tand Female = {Count_Other_female}\")\n",
    "    print(f\"White Male = {Count_White_male},\\tand Female = {Count_White_female}\")\n",
    "    print(f\"AfriAmeri Male= {Count_AfrAmeri_male}, and Female = {Count_AfrAmeri_female}\")\n",
    "    Male = Count_Hispa_male + Count_Other_male + Count_Other_male + Count_White_male + Count_AfrAmeri_male\n",
    "    Female = Count_Hispa_female + Count_Other_female + Count_Other_female + Count_White_female + Count_AfrAmeri_female\n",
    "    return Male, Female\n",
    "Male, Female = 0, 0\n",
    "print(Count_Sex_by_race(Male, Female))"
   ]
  },
  {
   "cell_type": "code",
   "execution_count": null,
   "metadata": {},
   "outputs": [],
   "source": [
    "#"
   ]
  },
  {
   "cell_type": "code",
   "execution_count": 210,
   "metadata": {
    "scrolled": true
   },
   "outputs": [],
   "source": [
    "count_each_male = pd.DataFrame(\n",
    "    {'Male_count_per_race': [699, 100, 198, 1747], \n",
    "     'Race': ['Hispanic ', 'Other', 'White ', 'AfrAmerican']})"
   ]
  },
  {
   "cell_type": "code",
   "execution_count": 211,
   "metadata": {
    "scrolled": true
   },
   "outputs": [
    {
     "data": {
      "text/plain": [
       "Text(0.5, 1.0, 'Traffic violation by Sex and Race ')"
      ]
     },
     "execution_count": 211,
     "metadata": {},
     "output_type": "execute_result"
    },
    {
     "data": {
      "image/png": "[encoded data removed]",
      "text/plain": [
       "<Figure size 432x288 with 1 Axes>"
      ]
     },
     "metadata": {},
     "output_type": "display_data"
    }
   ],
   "source": [
    "\n",
    "x = np.arange(len(count_each_male['Race']))\n",
    "\n",
    "fig, ax = plt.subplots()\n",
    "\n",
    "bars = ax.bar(x, count_each_male['Male_count_per_race'])\n",
    "ax.set_xticks(x)\n",
    "ax.set_xticklabels(count_each_male['Race'])\n",
    "ax.set_title(\"Traffic violation by Sex and Race \",color = 'blue', fontsize = 18)\n",
    "\n"
   ]
  },
  {
   "cell_type": "code",
   "execution_count": null,
   "metadata": {
    "scrolled": true
   },
   "outputs": [],
   "source": []
  },
  {
   "cell_type": "code",
   "execution_count": 204,
   "metadata": {
    "scrolled": true
   },
   "outputs": [
    {
     "data": {
      "text/plain": [
       "Text(0.5, 1.0, 'Traffic violation by Sex and Race')"
      ]
     },
     "execution_count": 204,
     "metadata": {},
     "output_type": "execute_result"
    },
    {
     "data": {
      "image/png": "[encoded data removed]",
      "text/plain": [
       "<Figure size 432x288 with 1 Axes>"
      ]
     },
     "metadata": {},
     "output_type": "display_data"
    }
   ],
   "source": [
    "\n",
    "x = np.arange(len(count_each_male['Race']))\n",
    "\n",
    "fig, ax = plt.subplots()\n",
    "\n",
    "bars = ax.bar(x, count_each_male['Male_count_per_race'])\n",
    "ax.set_xticks(x)\n",
    "ax.set_xticklabels(count_each_male['Race'])\n",
    "ax.set_title(\"Traffic violation by Sex and Race\",color = 'blue', fontsize = 18)\n",
    "\n"
   ]
  },
  {
   "cell_type": "code",
   "execution_count": 212,
   "metadata": {
    "scrolled": true
   },
   "outputs": [
    {
     "data": {
      "image/png": "[encoded data removed]",
      "text/plain": [
       "<Figure size 432x288 with 1 Axes>"
      ]
     },
     "metadata": {},
     "output_type": "display_data"
    }
   ],
   "source": [
    "\n",
    "Male = [578 , 77, 155, 1307]\n",
    "Female = [121, 23, 83, 440]\n",
    "index = ['Hispanic', 'Other', 'White','AfrAmerican']\n",
    "df = pd.DataFrame({'Male': Male,\n",
    "                    'Female': Female}, index=index)\n",
    "ax = df.plot.bar()"
   ]
  },
  {
   "cell_type": "code",
   "execution_count": null,
   "metadata": {
    "scrolled": true
   },
   "outputs": [],
   "source": [
    "\n",
    "\n"
   ]
  },
  {
   "cell_type": "markdown",
   "metadata": {},
   "source": [
    "        \n",
    "\n"
   ]
  },
  {
   "cell_type": "code",
   "execution_count": null,
   "metadata": {
    "scrolled": true
   },
   "outputs": [],
   "source": [
    "\n",
    "\n"
   ]
  },
  {
   "cell_type": "code",
   "execution_count": null,
   "metadata": {
    "scrolled": true
   },
   "outputs": [],
   "source": [
    "count_each_male = pd.DataFrame(\n",
    "    {'Male_count_per_race': [578, 77, 115, 1307], \n",
    "     'Race': ['Hispanci Male', 'Other Male', 'White Male', 'Afr American Male']}\n",
    ")\n",
    "# x will be the left hand edge of the bars.\n",
    "x = np.arange(len(count_each_male['Race']))\n",
    "\n",
    "fig, ax = plt.subplots()\n",
    "\n",
    "bars = ax.bar(x, count_each_male['Male_count_per_race'])\n",
    "ax.set_xticks(x)\n",
    "ax.set_xticklabels(count_each_male['Race'])\n",
    "ax.set_title(\"Traffic violation by Sex and Race Male\",color = 'blue', fontsize = 18)"
   ]
  },
  {
   "cell_type": "code",
   "execution_count": null,
   "metadata": {},
   "outputs": [],
   "source": []
  },
  {
   "cell_type": "code",
   "execution_count": null,
   "metadata": {
    "scrolled": false
   },
   "outputs": [],
   "source": []
  },
  {
   "cell_type": "code",
   "execution_count": null,
   "metadata": {},
   "outputs": [],
   "source": [
    "\n",
    "    "
   ]
  },
  {
   "cell_type": "code",
   "execution_count": null,
   "metadata": {},
   "outputs": [],
   "source": [
    "\n"
   ]
  },
  {
   "cell_type": "code",
   "execution_count": null,
   "metadata": {},
   "outputs": [],
   "source": []
  },
  {
   "cell_type": "code",
   "execution_count": null,
   "metadata": {},
   "outputs": [],
   "source": []
  },
  {
   "cell_type": "code",
   "execution_count": null,
   "metadata": {},
   "outputs": [],
   "source": []
  },
  {
   "cell_type": "code",
   "execution_count": null,
   "metadata": {},
   "outputs": [],
   "source": [
    "\n"
   ]
  },
  {
   "cell_type": "code",
   "execution_count": null,
   "metadata": {},
   "outputs": [],
   "source": [
    "\n",
    "\n"
   ]
  },
  {
   "cell_type": "code",
   "execution_count": null,
   "metadata": {},
   "outputs": [],
   "source": []
  },
  {
   "cell_type": "code",
   "execution_count": null,
   "metadata": {},
   "outputs": [],
   "source": []
  }
 ],
 "metadata": {
  "kernelspec": {
   "display_name": "Python 3",
   "language": "python",
   "name": "python3"
  },
  "language_info": {
   "codemirror_mode": {
    "name": "ipython",
    "version": 3
   },
   "file_extension": ".py",
   "mimetype": "text/x-python",
   "name": "python",
   "nbconvert_exporter": "python",
   "pygments_lexer": "ipython3",
   "version": "3.7.6"
  }
 },
 "nbformat": 4,
 "nbformat_minor": 2
}
